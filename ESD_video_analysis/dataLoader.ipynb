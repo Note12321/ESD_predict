{
 "cells": [
  {
   "cell_type": "code",
   "execution_count": 2,
   "id": "3c46b3c4-e6ae-47da-8e98-33ef452d454f",
   "metadata": {},
   "outputs": [],
   "source": [
    "import os\n",
    "import cv2\n",
    "import torch\n",
    "from torch.utils.data import Dataset, DataLoader"
   ]
  },
  {
   "cell_type": "markdown",
   "id": "d159783c-8e3e-4f76-a6a2-51374c89f6b4",
   "metadata": {},
   "source": [
    "## 导入文件"
   ]
  },
  {
   "cell_type": "markdown",
   "id": "b5f705b0-9d46-454b-9c27-5171a47725c3",
   "metadata": {},
   "source": [
    "### 文件名获取"
   ]
  },
  {
   "cell_type": "code",
   "execution_count": 3,
   "id": "f740fb23-4609-437b-bc8c-7abc92528896",
   "metadata": {},
   "outputs": [],
   "source": [
    "def load_dataset_files(data_path, begin, end):\n",
    "    \"\"\" 获取 1~10 文件夹下以 M_ 开头的视频文件和对应的标注文件 \"\"\"\n",
    "\n",
    "\n",
    "    matched_files = []\n",
    "\n",
    "    # 遍历 1~10 的文件夹\n",
    "    for i in range(begin, end + 1):  # 修改为 end + 1，确保包含 'end'\n",
    "        folder_path = os.path.join(data_path, str(i))  # 构造文件夹路径\n",
    "\n",
    "        if not os.path.isdir(folder_path):  # 确保该路径是文件夹\n",
    "            continue\n",
    "\n",
    "        # 筛选文件夹中的文件并构建标注文件字典\n",
    "        txt_files = {os.path.basename(txt).replace(\".txt\", \"\"): txt for txt in os.listdir(folder_path) if txt.endswith(\".txt\")}\n",
    "\n",
    "        for file in os.listdir(folder_path):\n",
    "            if file.startswith(\"M_\") and file.lower().endswith('.mp4'):  # 只筛选 M_ 开头的 mp4 文件\n",
    "                video_path = os.path.join(folder_path, file)\n",
    "                #video_files.append(video_path)\n",
    "\n",
    "                base_name = file.replace(\"M_\", \"\").replace(\".MP4\", \"\")  # 去掉 M_ 前缀并去掉后缀\n",
    "                annotation_file_name = base_name + \".txt\"  # 得到相应的 txt 文件名\n",
    "                 # 拼接绝对路径\n",
    "                annotation_file_path = os.path.join(folder_path, annotation_file_name)\n",
    "                \n",
    "                # 检查文件是否存在\n",
    "                if os.path.exists(annotation_file_path):\n",
    "                    matched_files.append((video_path, annotation_file_path))\n",
    "                else:\n",
    "                    print(f\"{video_path} 视频未找到相对应的文本文件\")  # 如果没有对应的标注文件，加入 None\n",
    "\n",
    "    print(f\"找到 {len(matched_files)} 对（视频-文本）文件对\")\n",
    "    return matched_files"
   ]
  },
  {
   "cell_type": "code",
   "execution_count": 4,
   "id": "bcf5dfd4-c911-4d59-9d63-72c007cb8073",
   "metadata": {},
   "outputs": [
    {
     "name": "stdout",
     "output_type": "stream",
     "text": [
      "找到 10 对（视频-文本）文件对\n",
      "('D:\\\\ESD\\\\test\\\\1\\\\M_20230822145107_U2291907_1_001_0001-01.MP4', 'D:\\\\ESD\\\\test\\\\1\\\\20230822145107_U2291907_1_001_0001-01.txt')\n",
      "\\n\n",
      "('D:\\\\ESD\\\\test\\\\1\\\\M_20230822145107_U2291907_1_001_0002-01.MP4', 'D:\\\\ESD\\\\test\\\\1\\\\20230822145107_U2291907_1_001_0002-01.txt')\n",
      "\\n\n",
      "('D:\\\\ESD\\\\test\\\\2\\\\M_20230824101337_U2464637_1_001_0001-01.MP4', 'D:\\\\ESD\\\\test\\\\2\\\\20230824101337_U2464637_1_001_0001-01.txt')\n",
      "\\n\n",
      "('D:\\\\ESD\\\\test\\\\2\\\\M_20230824101337_U2464637_1_001_0002-01.MP4', 'D:\\\\ESD\\\\test\\\\2\\\\20230824101337_U2464637_1_001_0002-01.txt')\n",
      "\\n\n",
      "('D:\\\\ESD\\\\test\\\\3\\\\M_20230828105533_U2802633_1_001_0001-01.MP4', 'D:\\\\ESD\\\\test\\\\3\\\\20230828105533_U2802633_1_001_0001-01.txt')\n",
      "\\n\n",
      "('D:\\\\ESD\\\\test\\\\3\\\\M_20230828105533_U2802633_1_001_0002-01.MP4', 'D:\\\\ESD\\\\test\\\\3\\\\20230828105533_U2802633_1_001_0002-01.txt')\n",
      "\\n\n",
      "('D:\\\\ESD\\\\test\\\\4\\\\M_20230829124054_U2997853_1_001_0001-01.MP4', 'D:\\\\ESD\\\\test\\\\4\\\\20230829124054_U2997853_1_001_0001-01.txt')\n",
      "\\n\n",
      "('D:\\\\ESD\\\\test\\\\4\\\\M_20230829124054_U2997853_1_001_0002-01.MP4', 'D:\\\\ESD\\\\test\\\\4\\\\20230829124054_U2997853_1_001_0002-01.txt')\n",
      "\\n\n",
      "('D:\\\\ESD\\\\test\\\\5\\\\M_20230830082942_U3021042_1_001_0001-01.MP4', 'D:\\\\ESD\\\\test\\\\5\\\\20230830082942_U3021042_1_001_0001-01.txt')\n",
      "\\n\n",
      "('D:\\\\ESD\\\\test\\\\5\\\\M_20230830082942_U3021042_1_001_0002-01.MP4', 'D:\\\\ESD\\\\test\\\\5\\\\20230830082942_U3021042_1_001_0002-01.txt')\n",
      "\\n\n"
     ]
    }
   ],
   "source": [
    "matched_files = load_dataset_files(r\"D:\\ESD\\test\",1,5)\n",
    "for char in matched_files:\n",
    "    print(char)\n",
    "    print(r\"\\n\")"
   ]
  },
  {
   "cell_type": "code",
   "execution_count": 17,
   "id": "61efc949-f6d1-480f-b933-5894c6738fef",
   "metadata": {},
   "outputs": [],
   "source": [
    "def load_annotation_file(annotation_file_path):\n",
    "    \"\"\" 打开标注文件并获取标注信息（假设包含 Frame 和 Phase） \"\"\"\n",
    "    annotations = []\n",
    "    try:\n",
    "        # 打开并读取标注文件\n",
    "        with open(annotation_file_path, 'r') as file:\n",
    "            lines = file.readlines()\n",
    "\n",
    "            # 跳过表头（如果有的话）\n",
    "            if lines[0].startswith(\"Frame\"):\n",
    "                lines = lines[1:]\n",
    "\n",
    "            # 遍历每一行，提取标注信息\n",
    "            for line in lines:\n",
    "                # 去除行尾换行符，并按空格分隔\n",
    "                parts = line.strip().split()\n",
    "\n",
    "                if len(parts) == 2:  # 确保每行包含 2 部分 (Frame 和 Phase)\n",
    "                    try:\n",
    "                        frame = int(parts[0])  # 帧号\n",
    "                        phase = parts[1]  # 阶段\n",
    "\n",
    "                        # 将解析后的数据保存为字典\n",
    "                        annotations.append({\n",
    "                            'frame': frame,\n",
    "                            'phase': phase\n",
    "                        })\n",
    "                    except ValueError:\n",
    "                        print(f\"⚠️ 无法解析标注文件中的行: {line}\")\n",
    "                else:\n",
    "                    print(f\"⚠️ 标注文件格式不正确: {line}\")\n",
    "\n",
    "    except FileNotFoundError:\n",
    "        print(f\"⚠️ 找不到文件: {annotation_file_path}\")\n",
    "    except Exception as e:\n",
    "        print(f\"⚠️ 打开标注文件时发生错误: {e}\")\n",
    "    if annotations:\n",
    "        for i in range(1, len(annotations)):\n",
    "            prev_frame = annotations[i - 1]['frame']\n",
    "            curr_frame = annotations[i]['frame']\n",
    "            if curr_frame != prev_frame + 1:\n",
    "                print(f\"⚠️ 帧号不连续: {prev_frame} -> {curr_frame}\")\n",
    "    return annotations"
   ]
  },
  {
   "cell_type": "code",
   "execution_count": 18,
   "id": "bcebd49e-2ead-4e73-9a88-b3e46c585c51",
   "metadata": {},
   "outputs": [],
   "source": [
    "annotations = load_annotation_file(r\"D:\\\\ESD\\\\test\\\\1\\\\20230822145107_U2291907_1_001_0001-01.txt\")"
   ]
  },
  {
   "cell_type": "code",
   "execution_count": 19,
   "id": "c228bb68-c0ef-4259-addd-3f39f7a0a4e1",
   "metadata": {},
   "outputs": [
    {
     "name": "stdout",
     "output_type": "stream",
     "text": [
      "35250\n"
     ]
    }
   ],
   "source": [
    "length = len(annotations)\n",
    "print(length)"
   ]
  },
  {
   "cell_type": "code",
   "execution_count": 10,
   "id": "db68aa80-9d4c-4733-9567-6ed4979207f8",
   "metadata": {},
   "outputs": [],
   "source": [
    "def frams_check_in(video_path):\n",
    "    \"\"\" 对齐标注帧数和实际帧数 \"\"\"\n",
    "    \n",
    "    # 打开视频文件\n",
    "    cap = cv2.VideoCapture(video_path)\n",
    "    \n",
    "    if not cap.isOpened():\n",
    "        print(f\"无法打开视频文件: {video_path}\")\n",
    "        return None, None\n",
    "    \n",
    "    # 获取视频的帧率 (fps) 和总帧数\n",
    "    fps = cap.get(cv2.CAP_PROP_FPS)  # 获取帧率\n",
    "    total_frames = int(cap.get(cv2.CAP_PROP_FRAME_COUNT))  # 获取视频总帧数\n",
    "    \n",
    "    cap.release()  # 释放视频文件资源\n",
    "    \n",
    "    return fps, total_frames\n"
   ]
  },
  {
   "cell_type": "code",
   "execution_count": 12,
   "id": "6aa88edc-6303-4c5a-80e8-1a88aa48e377",
   "metadata": {},
   "outputs": [
    {
     "name": "stdout",
     "output_type": "stream",
     "text": [
      "视频帧率: 50.0 FPS\n",
      "视频总帧数: 40060 帧\n"
     ]
    }
   ],
   "source": [
    "video_path = r\"D:\\\\ESD\\\\test\\\\1\\\\M_20230822145107_U2291907_1_001_0001-01.MP4\"\n",
    "fps, total_frames = frams_check_in(video_path)\n",
    "\n",
    "if fps is not None and total_frames is not None:\n",
    "    print(f\"视频帧率: {fps} FPS\")\n",
    "    print(f\"视频总帧数: {total_frames} 帧\")"
   ]
  },
  {
   "cell_type": "code",
   "execution_count": 37,
   "id": "0a5477b8-ea67-4ef9-9b64-83cde4336c92",
   "metadata": {},
   "outputs": [],
   "source": [
    "def annotations_prepare_frams(matched_files):\n",
    "    for video_path, annotation_file_path in matched_files:\n",
    "        print(f\"处理视频文件: {video_path}\")\n",
    "        print(f\"处理标注文件: {annotation_file_path}\")\n",
    "\n",
    "        # 解析标注文件\n",
    "        annotations = []\n",
    "        try:\n",
    "            # 打开并读取标注文件\n",
    "            with open(annotation_file_path, 'r') as file:\n",
    "                lines = file.readlines()\n",
    "\n",
    "                # 跳过表头\n",
    "                if lines[0].startswith(\"Frame\"):\n",
    "                    lines = lines[1:]\n",
    "\n",
    "                # 遍历每一行，提取标注信息\n",
    "                for line in lines:\n",
    "                    # 去除行尾换行符，并按空格分隔\n",
    "                    parts = line.strip().split()\n",
    "\n",
    "                    if len(parts) == 2:  # 确保每行包含 2 部分 (Frame 和 Phase)\n",
    "                        try:\n",
    "                            frame = int(parts[0])  # 帧号\n",
    "                            phase = parts[1]  # 阶段\n",
    "\n",
    "                            # 将解析后的数据保存为字典\n",
    "                            annotations.append({\n",
    "                                'frame': frame,\n",
    "                                'phase': phase\n",
    "                            })\n",
    "                        except ValueError:\n",
    "                            print(f\"⚠️ 无法解析标注文件中的行: {line}\")\n",
    "                    else:\n",
    "                        print(f\"⚠️ 标注文件格式不正确: {line}\")\n",
    "\n",
    "        except FileNotFoundError:\n",
    "            print(f\"⚠️ 找不到文件: {annotation_file_path}\")\n",
    "            continue\n",
    "        except Exception as e:\n",
    "            print(f\"⚠️ 打开标注文件时发生错误: {e}\")\n",
    "            continue\n",
    "\n",
    "        # 输出标注数目\n",
    "        print(f\"标注的数目为: {len(annotations)}\")\n",
    "\n",
    "        # 打开视频文件\n",
    "        cap = cv2.VideoCapture(video_path)\n",
    "        if not cap.isOpened():\n",
    "            print(f\"无法打开视频文件: {video_path}\")\n",
    "            continue\n",
    "\n",
    "        # 获取视频的帧率 (fps) 和总帧数\n",
    "        fps = cap.get(cv2.CAP_PROP_FPS)  # 获取帧率\n",
    "        total_frames = int(cap.get(cv2.CAP_PROP_FRAME_COUNT))  # 获取视频总帧数\n",
    "        print(f\"视频帧率: {fps}\")\n",
    "        print(f\"视频总帧数: {total_frames}\")\n",
    "\n",
    "\n",
    "        print(\"\\n\")\n",
    "        # 释放视频文件资源\n",
    "        cap.release()"
   ]
  },
  {
   "cell_type": "code",
   "execution_count": null,
   "id": "7493f38d-c31d-405b-ae7e-0bd4d1752092",
   "metadata": {},
   "outputs": [],
   "source": [
    "annotations_prepare_frams(matched_files)"
   ]
  },
  {
   "cell_type": "code",
   "execution_count": 20,
   "id": "d5d163ad-f1aa-4bb8-a21f-fd4aa6186b5a",
   "metadata": {},
   "outputs": [
    {
     "name": "stdout",
     "output_type": "stream",
     "text": [
      "处理视频文件: D:\\ESD\\test\\1\\M_20230822145107_U2291907_1_001_0001-01.MP4\n",
      "处理标注文件: D:\\ESD\\test\\1\\20230822145107_U2291907_1_001_0001-01.txt\n",
      "标注数量: 35250\n",
      "视频总帧数: 40060\n"
     ]
    },
    {
     "ename": "NameError",
     "evalue": "name 'check_frame_continuity' is not defined",
     "output_type": "error",
     "traceback": [
      "\u001b[1;31m--------------------------------------------------------------\u001b[0m",
      "\u001b[1;31mNameError\u001b[0m                    Traceback (most recent call last)",
      "Cell \u001b[1;32mIn[20], line 60\u001b[0m\n\u001b[0;32m     56\u001b[0m         validate_alignment(video_path, valid_annotations)\n\u001b[0;32m     59\u001b[0m \u001b[38;5;66;03m# 执行处理\u001b[39;00m\n\u001b[1;32m---> 60\u001b[0m \u001b[43mannotations_prepare_frames\u001b[49m\u001b[43m(\u001b[49m\u001b[43mmatched_files\u001b[49m\u001b[43m)\u001b[49m\n",
      "Cell \u001b[1;32mIn[20], line 53\u001b[0m, in \u001b[0;36mannotations_prepare_frames\u001b[1;34m(matched_files)\u001b[0m\n\u001b[0;32m     50\u001b[0m valid_annotations \u001b[38;5;241m=\u001b[39m [a \u001b[38;5;28;01mfor\u001b[39;00m a \u001b[38;5;129;01min\u001b[39;00m annotations \u001b[38;5;28;01mif\u001b[39;00m a[\u001b[38;5;124m'\u001b[39m\u001b[38;5;124mframe\u001b[39m\u001b[38;5;124m'\u001b[39m] \u001b[38;5;241m<\u001b[39m total_frames]\n\u001b[0;32m     52\u001b[0m \u001b[38;5;66;03m# 检查帧号连续性\u001b[39;00m\n\u001b[1;32m---> 53\u001b[0m \u001b[43mcheck_frame_continuity\u001b[49m(valid_annotations)\n\u001b[0;32m     55\u001b[0m \u001b[38;5;66;03m# 验证对齐结果\u001b[39;00m\n\u001b[0;32m     56\u001b[0m validate_alignment(video_path, valid_annotations)\n",
      "\u001b[1;31mNameError\u001b[0m: name 'check_frame_continuity' is not defined"
     ]
    }
   ],
   "source": [
    "import cv2\n",
    "import random\n",
    "\n",
    "def parse_annotations(annotation_file_path):\n",
    "    annotations = []\n",
    "    try:\n",
    "        with open(annotation_file_path, 'r') as file:\n",
    "            lines = file.readlines()\n",
    "            if lines[0].startswith(\"Frame\"):\n",
    "                lines = lines[1:]\n",
    "            for line in lines:\n",
    "                parts = line.strip().split()\n",
    "                if len(parts) == 2:\n",
    "                    try:\n",
    "                        frame = int(parts[0])  # 读取帧号\n",
    "                        phase = parts[1]       # 读取阶段\n",
    "                        annotations.append({\n",
    "                            'frame': frame,\n",
    "                            'phase': phase\n",
    "                        })\n",
    "                    except ValueError:\n",
    "                        print(f\"⚠️ 无法解析标注文件中的行: {line}\")\n",
    "                else:\n",
    "                    print(f\"⚠️ 标注文件格式不正确: {line}\")\n",
    "    except FileNotFoundError:\n",
    "        print(f\"⚠️ 找不到文件: {annotation_file_path}\")\n",
    "    except Exception as e:\n",
    "        print(f\"⚠️ 读取标注文件时发生错误: {e}\")\n",
    "    return annotations\n",
    "\n",
    "def annotations_prepare_frames(matched_files):\n",
    "    for video_path, annotation_file_path in matched_files:\n",
    "        print(f\"处理视频文件: {video_path}\")\n",
    "        print(f\"处理标注文件: {annotation_file_path}\")\n",
    "\n",
    "        # 解析标注文件\n",
    "        annotations = parse_annotations(annotation_file_path)\n",
    "        print(f\"标注数量: {len(annotations)}\")\n",
    "\n",
    "        # 打开视频文件，获取总帧数\n",
    "        cap = cv2.VideoCapture(video_path)\n",
    "        if not cap.isOpened():\n",
    "            print(f\"⚠️ 无法打开视频文件: {video_path}\")\n",
    "            continue\n",
    "        total_frames = int(cap.get(cv2.CAP_PROP_FRAME_COUNT))\n",
    "        cap.release()\n",
    "        print(f\"视频总帧数: {total_frames}\")\n",
    "\n",
    "        # 过滤掉超出视频总帧数的标注\n",
    "        valid_annotations = [a for a in annotations if a['frame'] < total_frames]\n",
    "\n",
    "        # 检查帧号连续性\n",
    "        check_frame_continuity(valid_annotations)\n",
    "\n",
    "        # 验证对齐结果\n",
    "        validate_alignment(video_path, valid_annotations)\n",
    "\n",
    "\n",
    "# 执行处理\n",
    "annotations_prepare_frames(matched_files)\n",
    "\n"
   ]
  },
  {
   "cell_type": "code",
   "execution_count": 6,
   "id": "4b1e2104-afce-4d6f-84ad-abf09ba74ce6",
   "metadata": {},
   "outputs": [
    {
     "ename": "NameError",
     "evalue": "name 'annotations_prepare_frams' is not defined",
     "output_type": "error",
     "traceback": [
      "\u001b[1;31m-----------------------------------------------------------------------\u001b[0m",
      "\u001b[1;31mNameError\u001b[0m                             Traceback (most recent call last)",
      "Cell \u001b[1;32mIn[6], line 2\u001b[0m\n\u001b[0;32m      1\u001b[0m \u001b[38;5;28;01mimport\u001b[39;00m\u001b[38;5;250m \u001b[39m\u001b[38;5;21;01mrandom\u001b[39;00m\n\u001b[1;32m----> 2\u001b[0m \u001b[43mannotations_prepare_frams\u001b[49m(matched_files)\n",
      "\u001b[1;31mNameError\u001b[0m: name 'annotations_prepare_frams' is not defined"
     ]
    }
   ],
   "source": []
  },
  {
   "cell_type": "code",
   "execution_count": null,
   "id": "b9138aa0-3369-4716-8fe1-84a3c662fc2e",
   "metadata": {},
   "outputs": [],
   "source": []
  }
 ],
 "metadata": {
  "kernelspec": {
   "display_name": "Python 3 (ipykernel)",
   "language": "python",
   "name": "python3"
  },
  "language_info": {
   "codemirror_mode": {
    "name": "ipython",
    "version": 3
   },
   "file_extension": ".py",
   "mimetype": "text/x-python",
   "name": "python",
   "nbconvert_exporter": "python",
   "pygments_lexer": "ipython3",
   "version": "3.9.1"
  }
 },
 "nbformat": 4,
 "nbformat_minor": 5
}
